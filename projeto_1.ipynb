{
 "cells": [
  {
   "cell_type": "markdown",
   "id": "10186619",
   "metadata": {},
   "source": [
    "# Projeto 1: Processamento de Vendas 🤑 \n",
    "---\n",
    "## O Cenário 😎\n",
    "Você foi contratado como desenvolvedor Python júnior pela empresa \"Varejo Total\" para ajudar a automatizar algumas de suas tarefas diárias. O departamento de vendas gera um relatório simples em um arquivo de texto, mas precisa de uma forma rápida de calcular o total de vendas do dia.\n",
    "\n",
    "O gerente de vendas, Sr. Silva, explicou o problema: \"Todos os dias, recebemos um arquivo chamado vendas_dia.txt. Cada linha nesse arquivo representa uma venda individual e contém o valor daquela venda. O problema é que, no final do dia, precisamos somar tudo manualmente, e isso está sujeito a erros. Precisamos de um script que leia esse arquivo e nos diga o total.\"\n",
    "\n",
    "Sua Missão: Criar um programa em Python que leia o arquivo vendas_dia.txt, some todos os valores contidos nele e exiba o total de vendas de forma clara no console."
   ]
  },
  {
   "cell_type": "code",
   "execution_count": null,
   "id": "af6c1ffe",
   "metadata": {},
   "outputs": [],
   "source": [
    "arquivo_escolhido=input(\"Nome do arquivo que deseja selecionar: \")\n",
    "\n",
    "numbers=[]\n",
    "\n",
    "try:\n",
    "    with open(arquivo_escolhido, 'r') as arquivo:\n",
    "        for linha in arquivo:\n",
    "            try:\n",
    "                number=float(linha.strip())\n",
    "                numbers.append(number)\n",
    "            except ValueError:\n",
    "                print(f\"Na linha '{linha.strip()}' não é um número válido. Foi ignorado\")\n",
    "            soma=sum(numbers) #Sum=soma os números negando os que não são(Como Strings ou espaços em branco),\n",
    "            # retornando ao valor de origem após a soma. Sendo ele alterado a soma de todos os elementos\n",
    "            print(\"Números lidos do arquivo\", arquivo_escolhido, \":\", numbers)\n",
    "            print(\"Soma total dos números:\", soma)\n",
    "        else:\n",
    "            print(f\"Nenhum número válido encontrado.\")\n",
    "except FileNotFoundError:\n",
    "    print(f\"Erro:\", arquivo_escolhido,\"não existe, ou não foi encontrado.\")\n",
    "except Exception as e:\n",
    "    print(f\"Ocorreu um erro:\", e)\n",
    "\n",
    "\n",
    "\n",
    "#Esqueci como faz pra exibir no Jupter.. Má tome aí:\n",
    "\n",
    "# Nome do arquivo que deseja selecionar: vendas_dia.txt\n",
    "# Número lidos do arquivo vendas_dia.txt: [45.9]\n",
    "# Soma total dos números: 45.9\n",
    "# [...]\n",
    "# [Adiciona cada número das linhas até chegar ao último, somando cada um]\n",
    "# [...]\n",
    "# Números lidos do arquivo vendas_dia.txt : [45.9, 129.99, 35.0, 88.5, 249.9, 1250.0, 19.99, 5.75, 320.0, 75.2, 42.15, 199.9, 2200.5, 12.0, 8.9, 29.9, 55.0, 112.3, 980.0, 49.9, 14.5, 18.25, 310.4, 7.5, 16.8, 22.0, 89.9, 650.0, 12.0, 38.6, 215.75, 1499.9, 77.0, 21.45, 9.9, 415.0, 68.35, 19.9, 330.0, 59.99, 28.7, 1250.75, 44.8, 299.0, 8.0, 15.5, 189.9, 780.2]\n",
    "# Soma total dos números: 12424.82\n",
    "# Nenhum número válido encontrado.\n",
    "\n",
    "# Sendo assim(_Valor final foi dado como 12424.82_)"
   ]
  }
 ],
 "metadata": {
  "kernelspec": {
   "display_name": "Python 3",
   "language": "python",
   "name": "python3"
  },
  "language_info": {
   "codemirror_mode": {
    "name": "ipython",
    "version": 3
   },
   "file_extension": ".py",
   "mimetype": "text/x-python",
   "name": "python",
   "nbconvert_exporter": "python",
   "pygments_lexer": "ipython3",
   "version": "3.13.2"
  }
 },
 "nbformat": 4,
 "nbformat_minor": 5
}
