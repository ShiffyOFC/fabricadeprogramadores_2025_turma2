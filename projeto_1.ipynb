{
 "cells": [
  {
   "cell_type": "markdown",
   "id": "10186619",
   "metadata": {},
   "source": [
    "# Projeto 1: Processamento de Vendas 🤑 \n",
    "---\n",
    "## O Cenário 😎\n",
    "Você foi contratado como desenvolvedor Python júnior pela empresa \"Varejo Total\" para ajudar a automatizar algumas de suas tarefas diárias. O departamento de vendas gera um relatório simples em um arquivo de texto, mas precisa de uma forma rápida de calcular o total de vendas do dia.\n",
    "\n",
    "O gerente de vendas, Sr. Silva, explicou o problema: \"Todos os dias, recebemos um arquivo chamado vendas_dia.txt. Cada linha nesse arquivo representa uma venda individual e contém o valor daquela venda. O problema é que, no final do dia, precisamos somar tudo manualmente, e isso está sujeito a erros. Precisamos de um script que leia esse arquivo e nos diga o total.\"\n",
    "\n",
    "Sua Missão: Criar um programa em Python que leia o arquivo vendas_dia.txt, some todos os valores contidos nele e exiba o total de vendas de forma clara no console."
   ]
  },
  {
   "cell_type": "code",
   "execution_count": 3,
   "id": "af6c1ffe",
   "metadata": {},
   "outputs": [],
   "source": [
    "# Seu código aqui: 

arquivo_escolhido=input("Nome do arquivo que deseja selecionar: ")

numbers=[]

try:
    with open(arquivo_escolhido, 'r') as arquivo:
        for linha in arquivo:
            try:
                number=float(linha.strip())
                numbers.append(number)
            except ValueError:
                print(f"Na linha '{linha.strip()}' não é um número válido. Foi ignorado")
            soma=sum(numbers) #Sum=soma os números negando os que não são(Como Strings ou espaços em branco),
            # retornando ao valor de origem após a soma. Sendo ele alterado a soma de todos os elementos
            print("Números lidos do arquivo", arquivo_escolhido, ":", numbers)
            print("Soma total dos números:", soma)
        else:
            print(f"Nenhum número válido encontrado.")
except FileNotFoundError:
    print(f"Erro:", arquivo_escolhido,"não existe, ou não foi encontrado.")
except Exception as e:
    print(f"Ocorreu um erro:", e)



#Esqueci como faz pra exibir no Jupter.. Má tome aí:

# Nome do arquivo que deseja selecionar: vendas_dia.txt
# Número lidos do arquivo vendas_dia.txt: [45.9]
# Soma total dos números: 45.9
# [...]
# [Adiciona cada número das linhas até chegar ao último, somando cada um]
# [...]
# Números lidos do arquivo vendas_dia.txt : [45.9, 129.99, 35.0, 88.5, 249.9, 1250.0, 19.99, 5.75, 320.0, 75.2, 42.15, 199.9, 2200.5, 12.0, 8.9, 29.9, 55.0, 112.3, 980.0, 49.9, 14.5, 18.25, 310.4, 7.5, 16.8, 22.0, 89.9, 650.0, 12.0, 38.6, 215.75, 1499.9, 77.0, 21.45, 9.9, 415.0, 68.35, 19.9, 330.0, 59.99, 28.7, 1250.75, 44.8, 299.0, 8.0, 15.5, 189.9, 780.2]
# Soma total dos números: 12424.82
# Nenhum número válido encontrado.

# Sendo assim(_Valor final foi dado como 12424.82_)"
   ]
  }
 ],
 "metadata": {
  "kernelspec": {
   "display_name": "Python 3",
   "language": "python",
   "name": "python3"
  },
  "language_info": {
   "codemirror_mode": {
    "name": "ipython",
    "version": 3
   },
   "file_extension": ".py",
   "mimetype": "text/x-python",
   "name": "python",
   "nbconvert_exporter": "python",
   "pygments_lexer": "ipython3",
   "version": "3.13.3"
  }
 },
 "nbformat": 4,
 "nbformat_minor": 5
}
