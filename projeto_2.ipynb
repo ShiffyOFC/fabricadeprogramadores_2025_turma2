{
 "cells": [
  {
   "cell_type": "markdown",
   "id": "1ba2259c",
   "metadata": {},
   "source": [
    "# Projeto 2: Relatório de Preços para o Mercado Brasileiro 💰 \n",
    "---\n",
    "## O Cenário ✨\n",
    "Você foi contratado como programador pela \"Global Tech\", uma gigante do varejo online que está expandindo suas operações para o Brasil. Atualmente, a lista de preços de todos os produtos da empresa está em um arquivo de texto, vendas_dolar.txt, com os valores em Dólar Americano (USD).\n",
    "\n",
    "A equipe de finanças no Brasil precisa urgentemente de um relatório com esses preços convertidos para Real Brasileiro (BRL) para poderem planejar a estratégia de marketing. Eles precisam que essa tarefa seja automatizada.\n",
    "\n",
    "Sua Missão: Criar um script em Python que leia cada preço do arquivo vendas_dolar.txt, converta-o para Real e salve o resultado em um novo arquivo chamado vendas_real.txt. O script também deve exibir uma mensagem de sucesso ao final da operação."
   ]
  },
  {
   "cell_type": "code",
   "execution_count": null,
   "id": "560ad3bb",
   "metadata": {},
   "outputs": [],
   "source": [
    "# Seu código aqui: (Reutilizado e modificado do arquivo Projeto_1.ipynb)\n",
    "\n",
    "arquivo_escolhido=input(\"Nome do arquivo que deseja selecionar: \")\n",
    "\n",
    "numbers=[]\n",
    "\n",
    "try:\n",
    "    with open(arquivo_escolhido, 'r') as arquivo:\n",
    "        for linha in arquivo:\n",
    "            try:\n",
    "                number=float(linha.strip())\n",
    "                numbers.append(number)\n",
    "            except ValueError:\n",
    "                print(f\"Na linha '{linha.strip()}' não é um número válido. Foi ignorado\\n\")\n",
    "            soma=sum(numbers)\n",
    "            dolar_real=soma*5.43\n",
    "            print(\"Números lidos do arquivo\", arquivo_escolhido, \":\", numbers, \"\\n\")\n",
    "            print(\"Soma total do dinheiro(Em dolar):\", soma, \"\\n\")\n",
    "            print(\"Soma total do dinheiro(Convertido em Reais):\", dolar_real, \"\\n\\n\") # 11318,82\n",
    "        else:\n",
    "            print(f\"Nenhum número válido encontrado.\\n\")\n",
    "except FileNotFoundError:\n",
    "    print(f\"Erro:\", arquivo_escolhido,\"não existe, ou não foi encontrado.\\n\")\n",
    "except Exception as e:\n",
    "    print(f\"Ocorreu um erro:\", e, \"\\n\")\n",
    "\n",
    "# Terminal:\n",
    "\n",
    "# Números lidos do arquivo vendas_dolar.txt: [99.99]\n",
    "\n",
    "# soma total do dinheiro(Em dolar): 99.99\n",
    "\n",
    "# soma total do dinheiro(Convertido em Reais): 543.9456\n",
    "\n",
    "# [Soma segue, número por número sendo adicionado...]\n",
    "\n",
    "# Números lidos do arquivo vendas_dolar.txt : [0, 99.99, 15.5, 350.06, 49.9, 12.0, 8.75, 1299.9, 250.01]\n",
    "\n",
    "# Soma total do dinheiro(Em dolar): 2086.11\n",
    "\n",
    "# Soma total do dinheiro(Convertido em Reais): 11327.5773\n",
    "\n",
    "\n",
    "# Nenhum número válido encontrado."
   ]
  }
 ],
 "metadata": {
  "kernelspec": {
   "display_name": "Python 3",
   "language": "python",
   "name": "python3"
  },
  "language_info": {
   "name": "python",
   "version": "3.13.3"
  }
 },
 "nbformat": 4,
 "nbformat_minor": 5
}
