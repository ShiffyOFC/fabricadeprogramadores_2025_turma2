{
 "cells": [
  {
   "cell_type": "markdown",
   "metadata": {},
   "source": [
    "# Revisão de Programação em Python\n",
    "## Alunos da Rede Pública Municipal de Santana de Parnaíba inscritos na Fábrica de Programadores!\n",
    "\n",
    "Neste notebook, vamos revisar os conceitos aprendidos:\n",
    "- Variáveis e tipos básicos 😁\n",
    "- Listas 📋\n",
    "- Estruturas condicionais (if, elif, else) ⬅️➡️\n",
    "- Casting 🫠\n",
    "- Funções 📐\n",
    "- Escopo (global, local) 🌍🏠\n",
    "- Composição ➗\n",
    "- Loops (while, for) 🌀\n",
    "- Lógica básica de programação 🧠\n",
    "\n",
    "Responda todos os exercícios utilizando composição!"
   ]
  },
  {
   "cell_type": "markdown",
   "metadata": {},
   "source": [
    "## Exercício 1: Variáveis e Tipos Básicos"
   ]
  },
  {
   "cell_type": "code",
   "execution_count": 14,
   "metadata": {},
   "outputs": [
    {
     "name": "stdout",
     "output_type": "stream",
     "text": [
      "Qual o seu nome (Completo): Anthony Gabriel dos Santos Soares\n",
      "Qual a sua idade (Atual): 15\n",
      "Qual a sua altura: 1.68\n",
      "Você gosta de programar? Resposta: True\n"
     ]
    }
   ],
   "source": [
    "# 1. Declare variáveis para armazenar:\n",
    "#    - Seu nome (string)\n",
    "#    - Sua idade (int)\n",
    "#    - Sua altura em metros (float)\n",
    "#    - Se você gosta de programar (True, False)\n",
    "#    - Depois, imprima cada uma dessas variáveis\n",
    "\n",
    "# Seu código aqui\n",
    "\n",
    "\n",
    "Nome=input(\"Qual o seu nome (Completo): \")\n",
    "Idade=int(input(\"Qual a sua idade (Atual): \"))\n",
    "Altura=float(input(\"Qual a sua altura: \"))\n",
    "Pergunta=input(\"Você gosta de programar? Resposta: \")\n",
    "print(\"Qual o seu nome (Completo):\", Nome)\n",
    "print(\"Qual a sua idade (Atual):\", Idade)\n",
    "print(\"Qual a sua altura:\", Altura)\n",
    "if Pergunta==(\"Sim\" or \"sim\"):\n",
    "    print(\"Você gosta de programar? Resposta:\", True)\n",
    "if Pergunta==(\"Não\" or \"não\"):\n",
    "    print(\"Você gosta de programar? Resposta:\", False)\n",
    "\n"
   ]
  },
  {
   "cell_type": "markdown",
   "metadata": {},
   "source": [
    "## Exercício 2: Operações com Listas"
   ]
  },
  {
   "cell_type": "code",
   "execution_count": 24,
   "metadata": {},
   "outputs": [
    {
     "name": "stdout",
     "output_type": "stream",
     "text": [
      "Lista comum:  ['Banana', 'Maçã', 'Laranja', 'Melão', 'Morango'] \n",
      "\n",
      "Lista resultante, remoção da segunda fruta:  ['Banana', 'Laranja', 'Melão', 'Morango'] \n",
      "\n",
      "Terceira Fruta, após remoção da segunda:  Melão\n"
     ]
    }
   ],
   "source": [
    "# 2. Declare uma lista chamada 'frutas' com 5 frutas diferentes\n",
    "#    - Adicione uma nova fruta no final da lista\n",
    "#    - Remova a segunda fruta da lista\n",
    "#    - Imprima a lista resultante\n",
    "#    - Imprima apenas a terceira fruta da lista\n",
    "\n",
    "# Seu código aqui\n",
    "Frutas=[\"Banana\", \"Maçã\", \"Laranja\",\n",
    "         \"Melão\", \"Morango\" ]\n",
    "print(\"Lista comum: \", Frutas, \"\\n\")\n",
    "Frutas.pop(1)\n",
    "print(\"Lista resultante, remoção da segunda fruta: \", Frutas, \"\\n\")\n",
    "print(\"Terceira Fruta, após remoção da segunda: \", Frutas[2])\n"
   ]
  },
  {
   "cell_type": "markdown",
   "metadata": {},
   "source": [
    "## Exercício 3: Funções, Escopo e Tipos de Dados"
   ]
  },
  {
   "cell_type": "code",
   "execution_count": 49,
   "metadata": {},
   "outputs": [
    {
     "name": "stdout",
     "output_type": "stream",
     "text": [
      "14\n"
     ]
    }
   ],
   "source": [
    "# 3. Defina uma função chamada calcular_dobro que recebe um número inteiro como parâmetro.\n",
    "#    - Dentro da função, calcule o dobro desse número e atribua o resultado a uma variável local chamada resultado_dobro.\n",
    "#    - A função deve retornar resultado_dobro.\n",
    "#    - Fora da função, invoque a função com o número 7 e atribua o valor retornado a uma variável global chamada meu_dobro.\n",
    "#    - Imprima o valor de meu_dobro.\n",
    "\n",
    "# Seu código aqui\n",
    "\n",
    "def calcular_dobro(valor:int):\n",
    "    resultado=valor*2\n",
    "    return resultado\n",
    "meu_dobro=calcular_dobro(7)\n",
    "print(meu_dobro)"
   ]
  },
  {
   "cell_type": "markdown",
   "metadata": {},
   "source": [
    "## Exercício 4: Estruturas Condicionais (if, else)"
   ]
  },
  {
   "cell_type": "code",
   "execution_count": 4,
   "metadata": {},
   "outputs": [
    {
     "name": "stdout",
     "output_type": "stream",
     "text": [
      "Seu número é Negativo.\n"
     ]
    }
   ],
   "source": [
    "# 4. Crie um programa que verifica se um número é positivo, negativo ou zero\n",
    "#    - Peça para o usuário digitar um número\n",
    "#    - Use if, elif e else para verificar o número\n",
    "#    - Imprima o resultado\n",
    "\n",
    "# Seu código aqui\n",
    "\n",
    "n=int(input(\"Digite um número: \"))\n",
    "\n",
    "if n<0:\n",
    "    print(\"Seu número é Negativo.\")\n",
    "elif n>0:\n",
    "    print(\"Seu número é Positivo.\")\n",
    "else:\n",
    "    print(\"Seu número é Zero.\")"
   ]
  },
  {
   "cell_type": "markdown",
   "metadata": {},
   "source": [
    "## Exercício 5: Loop While"
   ]
  },
  {
   "cell_type": "code",
   "execution_count": 56,
   "metadata": {},
   "outputs": [
    {
     "name": "stdout",
     "output_type": "stream",
     "text": [
      "5\n",
      "4\n",
      "3\n",
      "2\n",
      "1\n",
      "FOGO!\n"
     ]
    }
   ],
   "source": [
    "# 5. Crie um contador regressivo de 5 até 1 usando while\n",
    "#    - A cada iteração, imprima o número atual\n",
    "#    - Quando chegar a 1, imprima \"Fogo!\"\n",
    "\n",
    "# Seu código aqui\n",
    "\n",
    "x=5\n",
    "while x>=1:\n",
    "    print(x)\n",
    "    x=x-1\n",
    "print('FOGO!')\n"
   ]
  },
  {
   "cell_type": "markdown",
   "metadata": {},
   "source": [
    "## Exercício 6: Loop For"
   ]
  },
  {
   "cell_type": "code",
   "execution_count": 27,
   "metadata": {},
   "outputs": [
    {
     "name": "stdout",
     "output_type": "stream",
     "text": [
      "Sua média é de:  7.0\n"
     ]
    }
   ],
   "source": [
    "# 6. Crie um programa que calcula a média de 5 notas usando for\n",
    "#    - Peça para o usuário digitar 5 notas\n",
    "#    - Use um loop for para somar as notas\n",
    "#    - Calcule e imprima a média\n",
    "\n",
    "# Seu código aqui\n",
    "matematica=int(input(\"Qual a sua nota em Matemática? \"))\n",
    "ciencias=int(input(\"Qual a sua nota em Ciências? \"))\n",
    "artes=int(input(\"Qual a sua nota em Artes? \"))\n",
    "geografia=int(input(\"Qual a sua nota em Geografia? \"))\n",
    "portugues=int(input(\"Qual a sua nota em Português? \"))\n",
    "soma=[matematica+ciencias+artes+geografia+portugues]\n",
    "for media in soma:\n",
    "    print(\"Sua média é de: \", media/5)"
   ]
  },
  {
   "cell_type": "markdown",
   "metadata": {},
   "source": [
    "## Exercício 7: Escopo Global e Local"
   ]
  },
  {
   "cell_type": "code",
   "execution_count": 51,
   "metadata": {},
   "outputs": [
    {
     "name": "stdout",
     "output_type": "stream",
     "text": [
      "1251.25\n"
     ]
    }
   ],
   "source": [
    "# 7. Defina uma variável global chamada saldo_inicial com o valor 1000.50 (tipo float).\n",
    "#    - Crie uma função chamada depositar que recebe um valor_deposito (float) como parâmetro.\n",
    "#    - Dentro da função depositar, adicione o valor_deposito ao saldo_inicial. Lembre-se de usar a palavra-chave global para modificar a variável global.\n",
    "#    - Fora da função, chame depositar com o valor 250.75.\n",
    "#    - Após a chamada da função, imprima o valor atualizado de saldo_inicial.\n",
    "\n",
    "# Seu código aqui\n",
    "\n",
    "saldo_inicial=1000.50\n",
    "def depositar(valor_deposito:float):\n",
    "    global saldo_inicial\n",
    "    saldo_inicial=saldo_inicial+valor_deposito\n",
    "\n",
    "depositar(250.75)\n",
    "print(saldo_inicial)"
   ]
  },
  {
   "cell_type": "markdown",
   "metadata": {},
   "source": [
    "## Exercício 8: Listas e Loops"
   ]
  },
  {
   "cell_type": "code",
   "execution_count": 37,
   "metadata": {},
   "outputs": [
    {
     "name": "stdout",
     "output_type": "stream",
     "text": [
      "2 são pares\n",
      "4 são pares\n",
      "6 são pares\n",
      "8 são pares\n",
      "10 são pares\n",
      "1 são impares\n",
      "3 são impares\n",
      "5 são impares\n",
      "7 são impares\n",
      "9 são impares\n"
     ]
    }
   ],
   "source": [
    "# 8. Crie uma lista de números de 1 a 10\n",
    "#    - Use um loop for para imprimir apenas os números pares\n",
    "#    - Depois, crie uma nova lista com os números ímpares\n",
    "#    - Imprima a lista de ímpares\n",
    "\n",
    "# Seu código aqui\n",
    "lista=[1,2,3,4,5,6,7,8,9,10]\n",
    "for pares in lista:\n",
    "    if pares%2==0:\n",
    "        print(pares, \"são pares\")\n",
    "for impares in lista:\n",
    "    if impares%2==1:\n",
    "        print(impares, \"são impares\")"
   ]
  },
  {
   "cell_type": "markdown",
   "metadata": {},
   "source": [
    "## Exercício 9: Jogo de Adivinhação"
   ]
  },
  {
   "cell_type": "code",
   "execution_count": 18,
   "metadata": {},
   "outputs": [
    {
     "name": "stdout",
     "output_type": "stream",
     "text": [
      "Se seu número é 6 você venceu!🥳🥳Parabéns!!\n"
     ]
    }
   ],
   "source": [
    "# 9. Crie um jogo de adivinhação onde:\n",
    "#    - O computador escolhe um número aleatório entre 1 e 10\n",
    "#    - O jogador tem 3 tentativas para adivinhar o número\n",
    "#    - A cada tentativa, diga se o palpite é maior ou menor que o número secreto\n",
    "#    - Se acertar, imprima \"Parabéns!\" e encerre o jogo\n",
    "#    - Se errar todas as tentativas, imprima o número correto\n",
    "\n",
    "# Seu código aqui\n",
    "import random\n",
    "value=random.randint(1,10)\n",
    "palpite=int(input(\"Escolha um número de 1 à 10: \"))\n",
    "if palpite==value:\n",
    "    print(\"Se seu número é\", value, \"você venceu!🥳🥳Parabéns!!\")\n",
    "else:\n",
    "    print(\"Boa tentativa... Tente novamente!\" )\n",
    "    palpite2=int(input(\"Escolha seu segundo número: \"))\n",
    "    if palpite2==value:\n",
    "        print(\"Se seu número é\", value, \"você venceu!🥳🥳Parabéns!!\")\n",
    "    else:\n",
    "        print(\"Vamos lá! Você consegue!!\")\n",
    "        palpite3=int(input(\"Ultima chance!! Escolha seu terceiro número: \"))\n",
    "        if palpite3==value:\n",
    "            print(\"Se seu número é\", value, \"você venceu!🥳🥳Parabéns!!\")\n",
    "        else:\n",
    "            print(\"Você deu o seu máximo... mas o número era:\", value) #esse foi dahora"
   ]
  },
  {
   "cell_type": "markdown",
   "metadata": {},
   "source": [
    "## Exercício 10: Desafio Final"
   ]
  },
  {
   "cell_type": "code",
   "execution_count": 71,
   "metadata": {},
   "outputs": [
    {
     "name": "stdout",
     "output_type": "stream",
     "text": [
      "Altura: 1.7\n",
      "Idade: 16\n",
      "Nome: Ant\n",
      "Peso: 70.0\n",
      "IMC:  24.221453287197235\n",
      "Classificação:  Classificação: Eutrofia (estado nutricional adequado)\n"
     ]
    }
   ],
   "source": [
    "# 10. Crie um programa que:\n",
    "#    - Pede para o usuário digitar o seu próprio peso em Kgs.\n",
    "#    - Depois, pede ao usuário que digite sua altura em metros.\n",
    "#    - Em terceiro, pede ao usuário que digite seu nome e idade.\n",
    "#    - Adiciona os dados digitados ao final de uma lista (utilizando a função .append()).\n",
    "#    - Calcule o índice de massa corpórea (IMC) do indivíduo de acordo com a fórmula do IMC pesquisada.    \n",
    "#    - Após calcular, registre: Classificação do IMC de acordo com a OMS:\n",
    "#    - < 16         Magreza grave (grau III)\n",
    "#    - 16 a 16,9    Magreza moderada (grau II)\n",
    "#    - 17 a 18,4    Magreza leve (grau I)\n",
    "#    - 18,5 a 24,9  Eutrofia (estado nutricional adequado)\n",
    "#    - 25 a 29,9    Pré-obesidade\n",
    "#    - 30 a 34,9    Obesidade moderada (grau I)\n",
    "#    - 35 a 39,9    Obesidade severa (grau II)\n",
    "#    - >= 40        Obesidade muito severa (grau III)\n",
    "#    - Finalmente, em ordem alfabética (utilizando a função .sort()), exiba todos os itens da lista ao lado de seus dados, seu IMC e sua respectiva classificação.\n",
    "\n",
    "# Seu código aqui\n",
    "\n",
    "dados=[]\n",
    "\n",
    "seu_peso=float(input(\"Seu peso(Em Quilos): \"))\n",
    "sua_altura=float(input(\"Sua altura(em Metros): \"))\n",
    "seu_nome=input(\"Nome: \")\n",
    "sua_idade=int(input(\"Sua idade: \"))\n",
    "\n",
    "dados.append(\"Nome: \"+ seu_nome)\n",
    "dados.append(\"Idade: \"+ str(sua_idade))\n",
    "dados.append(\"Altura: \"+ str(sua_altura))\n",
    "dados.append(\"Peso: \"+ str(seu_peso))\n",
    "\n",
    "imc=seu_peso/sua_altura**2\n",
    "\n",
    "classi=\"\"\n",
    "\n",
    "if imc<16:\n",
    "    classi= \"Classificação: Magreza grave (grau III)\"\n",
    "elif imc>=16 and imc<=16.9:\n",
    "    classi= \"Classificação:  Magreza moderada (grau II)\"\n",
    "elif imc>=17 and imc<=18.4:\n",
    "    classi= \"Classificação: Magreza leve (grau I)\"\n",
    "elif imc>=18.5 and imc<=24.9:\n",
    "    classi= \"Classificação: Eutrofia (estado nutricional adequado)\"\n",
    "elif imc>=25 and imc<=29.9:\n",
    "    classi= \"Classificação: Pré-obesidade\"\n",
    "elif imc>=30 and imc<=34.9:\n",
    "    classi= \"Classificação: Obesidade moderada (grau I)\"\n",
    "elif imc>=35 and imc<=39.9:\n",
    "    classi= \"Classificação: Obesidade severa (grau II)\"\n",
    "elif imc>=40:\n",
    "    classi= \"Classificação: Obesidade muito severa (grau III)\"\n",
    "\n",
    "dados.sort()\n",
    "for dado in dados:\n",
    "    print(dado)\n",
    "\n",
    "print(\"IMC: \", imc)\n",
    "print(\"Classificação: \", classi)\n"
   ]
  },
  {
   "cell_type": "markdown",
   "metadata": {},
   "source": [
    "## Parabéns por completar os exercícios! 🥳\n",
    "### Continue praticando e explorando os conceitos de programação."
   ]
  }
 ],
 "metadata": {
  "kernelspec": {
   "display_name": ".venv",
   "language": "python",
   "name": "python3"
  },
  "language_info": {
   "codemirror_mode": {
    "name": "ipython",
    "version": 3
   },
   "file_extension": ".py",
   "mimetype": "text/x-python",
   "name": "python",
   "nbconvert_exporter": "python",
   "pygments_lexer": "ipython3",
   "version": "3.13.2"
  }
 },
 "nbformat": 4,
 "nbformat_minor": 4
}
